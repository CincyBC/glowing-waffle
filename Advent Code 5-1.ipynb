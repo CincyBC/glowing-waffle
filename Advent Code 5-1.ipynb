{
 "cells": [
  {
   "cell_type": "code",
   "execution_count": 125,
   "metadata": {},
   "outputs": [
    {
     "name": "stdout",
     "output_type": "stream",
     "text": [
      "['FBBBBBBLRR', 'FFFBFFFLLR', 'FFBBBBBRRL', 'BFFBFFBRLL', 'BFBFBBFLLR', 'FBFBBFBLLL', 'FBFBBBFRRR', 'FBFFBBBLRR', 'FBFBBBBRLL', 'FFFBBFBLLR', 'FBFBFFFRRL', 'FFBBBFFLLR', 'BFFFFFBRRR', 'FBFFFFFLLR', 'FFFBBFFRRL', 'FBBBBBBRRR', 'FBBFFBBRLR', 'FBFBFBBRLL', 'BFFBBFBLLR', 'FBFFFFBLLR', 'FFFBFFBRLL', 'BFBBBBBLRL', 'BFFBFBFLRR', 'FFBBFFBRLR', 'BFFFFBFLRR', 'BFFFFBBLRR', 'FBBFFFBLLL', 'FFBFBFBLRR', 'FBFBFBBRRL', 'FFBFBBBLRR', 'BFFBFFFRRL', 'BFBFBFBRRL', 'BFFBBBFRLR', 'BFBBFBFLLR', 'FBFBBBFLRL', 'FBFFBBBRLL', 'BFFFFBBLRL', 'BFBBBBBRRR', 'BFFBFFFLLL', 'BBFFFBFRRL', 'BFFBFBBRLL', 'FFBBBBFLRL', 'BFFFFFFRLL', 'BFFFBFBLRL', 'FFBBFBBLRL', 'BFBBBBBRLL', 'FBFFBBBLLL', 'BFBBFBFLLL', 'BFFBBBBRRL', 'FFFBFFBRLR', 'BFFBFFFRRR', 'FFBBBBFLLR', 'FBFBBBFRRL', 'BFBBFBBRLR', 'FBFBFFFRRR', 'BBFFFFBRLL', 'FBFFBFFRLL', 'BFBFBBBRRL', 'FFFBFBBLLL', 'FBBFBBFLLL', 'FFBBBBFRRR', 'FFFFBBBRRR', 'BFBFFBBRRL', 'FBBFFFFLRR', 'BFFBBFBRLL', 'FBFBBBBRLR', 'FFBBFBBRRR', 'FBBBBFFLRL', 'FFBFBFFRLL', 'BFFBBFFRRR', 'FBFBBBFLLR', 'BBFFBFFLRR', 'FBBFBFBLRR', 'FFFFBBBLRR', 'FBBFFBBLLR', 'FBBBFBFLRR', 'BFBBFFBLRL', 'FFBBFFFRLR', 'FBFFBFBRLR', 'FBFFFFFRLL', 'BFFFBFFRRL', 'BBFFFBBRRL', 'FFFBFFBLLL', 'FFBBFBBRLL', 'FBBFBBFRRR', 'FFFBFFFRLL', 'FFBFFFBRRL', 'BBFFFBFLRL', 'BFBFBBFLRL', 'FFFBFBFLLR', 'FFBBFFFRRR', 'BFFBBFBLRR', 'BFFBFFBLRL', 'FBBBFFBRRL', 'BFBBBFBRLR', 'BFFFBBBRRR', 'BBFFFBFRLR', 'FBFBFFBLLR', 'BFFFBFBLLL', 'FFBFFFBLRR', 'FFBBFFFRLL', 'BFFFBFFRRR', 'FBBFBFBRRR', 'BFBBBBFLLR', 'FBBFFBBRRL', 'BFFBFBBRRL', 'BFFBFBBLRL', 'BFFFBFBRRL', 'FFFBFBFRRL', 'FBFFFFBLRR', 'BFBBBFFRLL', 'FBBBFFFRLL', 'FBFFFFFLLL', 'BFBFFBBRRR', 'FBFBFFFLRL', 'FFFFBBFRLL', 'FBFFFBBLRR', 'BBFFFBFLLR', 'FBBBFFFLRL', 'FFBBFBFLRL', 'BFFFBBBLRR', 'BFFBBBFLRR', 'BBFFFFBRLR', 'FFBFBBFLRR', 'FFFBBBBRRL', 'BFBFFFFLLL', 'FBFBBFBLLR', 'FBBBBFFRRL', 'FFBFBBFRRL', 'FFFFBBFRRR', 'BFFFBBBRRL', 'BFBBFBFRRR', 'BBFFFBBLRR', 'BFBBBFBLRR', 'BFFBBBBLLL', 'BFBFFFBRLL', 'FBBBFBBRRL', 'FFBBBFBLLL', 'BFFBFBFLLL', 'BFBBFFBRRR', 'BBFFBFFLLR', 'BFBBBBFRRR', 'BFFFBBFLRR', 'BFFFFBBLLR', 'FFFBFFBLRL', 'BFBBFBFRRL', 'FFBBFBFLLL', 'BFFFFBFLLL', 'BFBFBBFRRL', 'BFFBFFFRLR', 'FBBBFFBRLL', 'BFBBBBFLLL', 'FBFFBFFRRR', 'BFFBFFBRRR', 'FBBBBBFRLL', 'FBBFBBBRRL', 'FBFBFFFRLR', 'FFFBFBBRLL', 'FFFBBFFRLR', 'BFBBFBBRRL', 'FFBBBBFLLL', 'BFFBFFBLLL', 'FBFBBFFRLL', 'FBBBFBFLLR', 'BBFFFFFRLL', 'FFBFBBBRRL', 'BFBFFFBRRR', 'FBBFFFFRLL', 'FBFBFBBLRL', 'FFBBFFFRRL', 'FBBBFFBLLL', 'FBBFFBBLRR', 'BFBFBBBRRR', 'BFBBBBBLRR', 'FBBFBFBRLR', 'FBBBBFBRRL', 'BFBFFBFRLL', 'FFBFBBBRLL', 'FFBFFFFRLL', 'FBFFBFFLLR', 'BFBBBBBLLR', 'FFBFFBFRLL', 'FBFFFBFLRL', 'BFFFFBFRRL', 'FFBBFBBLRR', 'BFBFFBFLRR', 'FBBBBFBLLL', 'BBFFFFFRRL', 'BFFBFFBRLR', 'BFFBBBBRRR', 'FFFBFFBLLR', 'BFFBFBBRRR', 'FFFBFFBLRR', 'FFBBBFBRLL', 'FFBFFFBRRR', 'FBFBBFBLRR', 'FBFFFFBLLL', 'FBFBFBBRRR', 'BFFBFFFLRL', 'BFBBBFFRLR', 'FBFBFBBLLR', 'FFFBBFBLRR', 'BFFBFFFLLR', 'BBFFFBBLLR', 'BFFFBBBLLR', 'BFBBBBBRLR', 'FBFFFBFRRR', 'BFBFBFFLRR', 'FBBBBBBRLL', 'FFFBFFFLRL', 'BBFFFBFRLL', 'BBFFBFFLRL', 'FBFFFBBLLL', 'BFFBBBFLLL', 'BFBBFBFRLR', 'BFBFBFBLRR', 'FBBFFBFRRR', 'FFFBFFBRRR', 'BFBBBBFLRL', 'FBBBFBBLLR', 'FFBBBBBRLR', 'FFFBBBFRLR', 'FBBFFBFLLL', 'FFFBFBBLRR', 'BFBFBBFLRR', 'BBFFFBBLLL', 'FBBBBBFLRR', 'BBFFFBFLLL', 'FBFBBFBRRR', 'FBFFBBFLLR', 'FFFBBFBRRR', 'BFBFBBFRLR', 'FBFBBFFLRL', 'FFBBBFBRRL', 'FFBFFBFRRR', 'BBFFFFFLLL', 'BFBBFFFRLR', 'FBFFFFBRRR', 'FBBFBFFRRL', 'FBBFBBFRLR', 'FFFBFFFLRR', 'FBBBFFFRRL', 'FFBBBBBLLR', 'BFBBBFBLLL', 'FBBBBBFLLL', 'FFBBFBFLRR', 'BBFFFFBRRL', 'FFBBBFFRRR', 'FBFBBFBRLL', 'FBBBBBBLRL', 'BFBFFFFRRL', 'FBBFBBBRLR', 'FBBFBBBLRR', 'FBFBFBFRRL', 'FBBFBFFLLL', 'FFFBFBFLRR', 'FBFBBFFRLR', 'BFFFBFFLLR', 'BFFBFBBRLR', 'FFBBBBBLRR', 'BFFFFFBLLR', 'BFFBBBBLLR', 'FBFBBFBLRL', 'BFFBFFFLRR', 'FFFBFBFRLR', 'BFFBBBBLRR', 'FFFBBFFLLR', 'FBFFFBBRRR', 'BFBBBFFRRL', 'FFBBBFBRRR', 'FBBBFBBLRL', 'BFBBFFFLLR', 'BFFFFFBRRL', 'BFFBBBBLRL', 'FBBBBBFLLR', 'FFFFBBFLRR', 'BFBBFBBLLL', 'FFFBBBFRLL', 'BFBFFFFRRR', 'BFFBBFBRRL', 'FBFFFBBRLL', 'BFFFFBBRRL', 'BFFBBFFLLL', 'FFFBFBFRRR', 'FBBBBBFLRL', 'FFBFFBBLRR', 'FFBBBFBLRR', 'FFBFFFBLLR', 'FBBFFBFRRL', 'BFFFFBBLLL', 'BFFFBFFRLR', 'FBBBFFFRRR', 'BFBFFBFRLR', 'FBFBFFBLLL', 'FBFBBBFRLL', 'FBBFBFBRRL', 'FFFBBFFRRR', 'FFFBFBFLRL', 'FBFBFFFRLL', 'BFFBBBFRRL', 'FBFFBFBLLR', 'BFFFFFFRRR', 'BFFBFBFRLR', 'FFBBFFBLRR', 'FBFFBFFLRR', 'FBBBFFBRRR', 'FFFBBBBLLL', 'FBBFBBBLLR', 'BFFFFBFLLR', 'BFFBBBBRLR', 'BFFBBBFRRR', 'FBBBFFFLLL', 'BFBFFFBRRL', 'FBFFBFBLRL', 'BFBBBFFLLL', 'FBBBFFBLRR', 'FBBFBFFRLL', 'BFBFFBBRLL', 'BFBFBFFLLR', 'FBFFFFFRLR', 'FFFBBBBRLR', 'FFFFBBBRLR', 'BFFFBFFLRL', 'FBBFFFBLLR', 'FFBFBBFLLR', 'FFBBFBBLLR', 'FBBBFBFLLL', 'FBFFBFBRLL', 'FBBFBFBLLR', 'FFBFBFFRLR', 'FFFFBBBRRL', 'BFBFFBFRRL', 'FBBBBFFRLL', 'BFFBFBFRRL', 'BFBBFFBRRL', 'BFFFBFBRLR', 'FFFBFFBRRL', 'FFBFFBFRLR', 'BFFFBBBRLL', 'BFBBBFBRLL', 'FBBFBFFLRR', 'FFBBFBFRLR', 'BFBFBFBRLR', 'FBFFFBBRLR', 'BFFFFFBLRL', 'FBBFFFFLLR', 'BFFBFFFRLL', 'FBFBBBBLRL', 'FBFBFBBLLL', 'FBBBBFBLRR', 'FBBFBFBLRL', 'BFFFFBFLRL', 'FBFFBFBLRR', 'FBFFBBFLLL', 'BBFFFFFLRL', 'BFBFFFFLRR', 'BFBFBFFRRR', 'BFBBFBBLRR', 'FFFBBBFLLR', 'BFFBBFFLLR', 'FBBFFFFRRL', 'FBFFBBBRLR', 'FBBFFBBLLL', 'FFFFBBBLLR', 'BFBFBFFLRL', 'FFBFFFFRRL', 'BFBFFFBRLR', 'BFBFFFBLRR', 'FBFFBBFRLR', 'FBBBBFFLRR', 'FBFBFBFLRR', 'FFBBBFFLRR', 'FFBFFFFRRR', 'BFFFBFFLLL', 'FBBBBBBLLR', 'BFBFFFBLLL', 'FBFBFBBLRR', 'BBFFBFFRLR', 'FBFFBFFRLR', 'FFBBFFBLLR', 'FBBBBFBRRR', 'FFFBBBFLLL', 'FFBFBBFRLR', 'FBBBFBFRRR', 'FBFBBFBRLR', 'FBFFFBFRRL', 'FFFBFBFRLL', 'FBBFFFBRLL', 'FBBBFFFLRR', 'FFBBFBFRRR', 'BFBBFBFLRR', 'BFBFFBBLRL', 'FFFFBBFLLR', 'BFFBBFFRLL', 'FFFBBBFRRL', 'BFBBBFBRRR', 'FFBFBBBLRL', 'BBFFFFBLRL', 'BFFFFFFLRR', 'FFBFFBBRLL', 'FBBBFBBRLR', 'BBFFFFFLLR', 'FBFBFBFRRR', 'FBBFFBBRRR', 'FBBFFFBRRL', 'BFFBFBBLLL', 'FFBBBBFRLL', 'FFBBFFBLRL', 'FFFBBFFLLL', 'FFFBBBBLRR', 'FFBFBBBRRR', 'FBBBBFBRLL', 'FBFFFFFLRR', 'BBFFFFBLLL', 'FBFBBFFLLR', 'BFFFBFBLRR', 'BBFFFFBRRR', 'FBBFBFFRLR', 'BFBFBFBRLL', 'FFBBBFFRLL', 'FBFFFBBLRL', 'FFFBBFFLRR', 'BFBFFBBLLL', 'BFBFBBBLLR', 'FBBBBBFRRL', 'FFFFBBFRLR', 'FBBFBFBRLL', 'FFBFFFFRLR', 'BFBBFFFRRR', 'FFBFBBFLRL', 'BFBFFFFLLR', 'BFFFBBFRRL', 'FBFFBFFLLL', 'FBBBFBFRRL', 'FBFBFBFLLR', 'FBBFBBBRLL', 'BFFFFFBRLL', 'FBFFBBFRLL', 'BFBBFFBRLL', 'BFFBFBBLLR', 'BFFFFFFLLR', 'FBBBBFBLRL', 'FBFBBBBLRR', 'FFFFBBBLLL', 'FBBBFFFRLR', 'FBBBFBFLRL', 'FFFBFFFRLR', 'BBFFFBBRLR', 'BFBFBBBLRR', 'FFBFFBBRRR', 'FFFBFBBRRR', 'FBBBBFFLLL', 'BFBBBBBLLL', 'FFBFFFFLRL', 'BFBFFBBLRR', 'FFBFBFBRLL', 'FBBFBBBLLL', 'FBBFBBFRRL', 'BBFFFBFLRR', 'FBFFFFBRLR', 'FBBBBBFRRR', 'FFFBBFFRLL', 'BFBBFBBLRL', 'FFBFFFBRLR', 'FBBFFFBRRR', 'FFFBBFBRRL', 'BFBBBFFRRR', 'FBFBFFBLRL', 'FFBFFBBRRL', 'BFBFFFFRLL', 'FBBBFBFRLL', 'FBFBFFBLRR', 'FFFBBBFRRR', 'FBFFBBBLRL', 'BFFFBBBLRL', 'BFBBFFFLRR', 'BBFFFBBLRL', 'FBFFBBFRRL', 'BFBBBFBLLR', 'BFFBFFBRRL', 'FFBBBFFLRL', 'FFBFBFBRLR', 'BFFBFBFLLR', 'BFFFFBBRLL', 'FFFFBBFLRL', 'BFFFBBBLLL', 'FBBFFFBLRL', 'BFFFFBFRLL', 'BFBBFBBLLR', 'FBBFBBFLRL', 'FBBFFBFLRL', 'FFFFBBFRRL', 'FBFFBBBLLR', 'FFBBBFFLLL', 'FFBFBFFLRR', 'FBFFBBFLRR', 'FFBFBBBLLL', 'BFFBBBFRLL', 'FBFFFBFLLR', 'BFBBBBFLRR', 'FBFBFFFLLL', 'FFFBFBBLLR', 'FFFBBFFLRL', 'FBBBFBBLRR', 'FBBBFBBRLL', 'FFBBBFFRLR', 'BFBFFFFRLR', 'FBBFFBBLRL', 'FBFBFFBRRL', 'BFBBBFFLRL', 'FFBBBBBLRL', 'FBBBBFFRLR', 'FFBBFFFLLL', 'FBFFFFFLRL', 'FFFBFFFRRL', 'BFFFBBFRLR', 'FFFBBFBLRL', 'FBBFBBBRRR', 'FFFBBFBLLL', 'BFFFFFFLLL', 'BFBFBBFRLL', 'BFFFBFFRLL', 'FFBBBBFLRR', 'FFFBBBBRLL', 'FFBFBBFLLL', 'BFBBFFBLRR', 'FBFFFBFLRR', 'BFBBFFFLRL', 'FFBBFBBRLR', 'BFBFFBFRRR', 'FBBFFFBLRR', 'BFFFFBFRLR', 'FBFFFBBLLR', 'FBFBFFFLLR', 'FBBBBFFRRR', 'FBBFFFFLLL', 'FFBFFBBLRL', 'FFBBBBBRLL', 'FFBFBBBLLR', 'FBFFBFFRRL', 'FFBFFBBLLR', 'BFFFBBFLLL', 'FFBBFFBRLL', 'FFBFFBFLRR', 'FFBFFBBLLL', 'BFBBBFFLLR', 'FBFBFBFLRL', 'FFBBBBFRLR', 'BFBBFFBLLR', 'BFFFFFBRLR', 'FBFFFFBRLL', 'FBFBFFBRLR', 'BFFBBFBLLL', 'BBFFBFFRLL', 'BBFFFFFLRR', 'BFFFFBFRRR', 'BFBFBFBLLR', 'BFFFFFFLRL', 'FFBBFBBLLL', 'FFFBBBFLRR', 'FBBFFBFRLR', 'BBFFFBBRLL', 'FBBFBFFLLR', 'FBBFFBFLRR', 'BFFFBFBRLL', 'BFBFBFFLLL', 'FBFFBBBRRL', 'FBBBFBFRLR', 'FFBFFBFRRL', 'BBFFBFFRRL', 'FBBFFFBRLR', 'FFFFBBBRLL', 'BFBBFFFRRL', 'BFBBBBBRRL', 'BFBBFFFLLL', 'BFFBBBFLLR', 'FBFFFFFRRR', 'FBFBBFFRRL', 'FBBBFBBRRR', 'FBFBBBBLLL', 'BFFFFBBRLR', 'FFFBFBBRLR', 'BFFBFFBLRR', 'FBBFFFFRLR', 'FBFFBBFRRR', 'FFFBFBFLLL', 'BBFFFFBLRR', 'FBFBBBFLRR', 'BFBBBBFRRL', 'FFBBFFBRRL', 'BFFBBFBRRR', 'FFBFBBFRRR', 'FBFFFBBRRL', 'FBFBBFFLLL', 'BFFBFFBLLR', 'FBBFBFFRRR', 'FFFBBBFLRL', 'BFFBBBFLRL', 'FBFFFBFRLR', 'BFFFFFFRRL', 'FBBBFFBLLR', 'FBBBBBFRLR', 'BFBFFFBLLR', 'FFBBFBBRRL', 'BFBBFBFLRL', 'FBBBBBBRLR', 'BFFBFBBLRR', 'FBFFBBFLRL', 'FBBBFFBLRL', 'FFBBFBFRLL', 'BFBBBFBRRL', 'FBFBFFBRRR', 'FFBFBFFLLR', 'FFBFFBFLLL', 'FFFBBBBRRR', 'FBFFBFBRRL', 'FFBFFFFLRR', 'FFFFBBBLRL', 'FFBBBBBRRR', 'FFBBFFBRRR', 'FFBFBFBRRL', 'FFFBBFBRLR', 'BFBBFFBRLR', 'BFBBFBBRLL', 'FFBFFFBLLL', 'FFBBFFBLLL', 'FBBFFFFLRL', 'FFFBFFFLLL', 'BFBBFBFRLL', 'BBFFFBFRRR', 'FFFBBFBRLL', 'BFBBFFBLLL', 'FBFBFBBRLR', 'BBFFFBBRRR', 'FFFBBBBLRL', 'FFBFBFFRRL', 'FBBBBFBLLR', 'FBBFBBBLRL', 'BFBFBBBLLL', 'FBBFFBFLLR', 'BFBFBBBLRL', 'FFFBFFFRRR', 'FFBFFBFLRL', 'FBFBFBFRLL', 'FBFBBBFRLR', 'FBBBFFFLLR', 'FFBFBFFLRL', 'BFFBFBFRRR', 'FBBFBFBLLL', 'BFBBBFFLRR', 'FFFBFBBLRL', 'FBFBFBFLLL', 'FFBBBBBLLL', 'FBBFBFFLRL', 'FFBBFFFLRL', 'FBFBBBBRRR', 'BBFFFFBLLR', 'FFFBBBBLLR', 'BFFFBFBRRR', 'FBFFFFBLRL', 'FBFFFBFRLL', 'BBFFFFFRRR', 'FFBFFFFLLR', 'BBFFBFFLLL', 'FBFFBBBRRR', 'BFBBBBFRLR', 'BBFFFFFRLR', 'FBFBBFBRRL', 'FBFFFBFLLL', 'FBFBFFFLRR', 'FFBFFFBLRL', 'BFFFBBFLLR', 'FBFBFFBRLL', 'FFBBBFFRRL', 'FFBBBFBLRL', 'BFBFBBFLLL', 'BFBFBFBLRL', 'FBFBBBBLLR', 'FBBBBFFLLR', 'FFBBFBFLLR', 'BFBFBFFRLL', 'FFBBFBFRRL', 'FBBBFBBLLL', 'FFBBFFFLRR', 'FBFFBFBRRR', 'BFFFFFFRLR', 'BFBFBBFRRR', 'FBBBBBBRRL', 'FFBFFBFLLR', 'FFBFBBFRLL', 'FFBFBFFLLL', 'BFFFFFBLLL', 'BFFFBFBLLR', 'FFBBBFBLLR', 'FBBFFBFRLL', 'FBFBBBFLLL', 'FBFFFFFRRL', 'BFFBBFFRRL', 'BFBFFBFLLR', 'BFBBFBBRRR', 'BFFBBFFLRR', 'FBBFBBFRLL', 'FBBBBFBRLR', 'FFBFBBBRLR', 'FFFBFBBRRL', 'BFBBBBFRLL', 'FBFBBFFRRR', 'BFFFBBFRLL', 'FBFFBFBLLL', 'FBBFBBFLRR', 'BFBFFBFLRL', 'BFBFBFFRLR', 'BFBBBFBLRL', 'FBFFFFBRRL', 'FBBFFFFRRR', 'BFBFBFBLLL', 'BFBFBBBRLR', 'FBBFFBBRLL', 'BFBFFFFLRL', 'FFBFFFFLLL', 'FBFBFBFRLR', 'BFFBFBFLRL', 'FBFFBFFLRL', 'BFFFFFBLRR', 'FFBBFFFLLR', 'FFBFBFBLRL', 'BFBFFBFLLL', 'BFFBBFBRLR', 'FFBFFFBRLL', 'BFBBFFFRLL', 'BFFFFBBRRR', 'BFFBBFFLRL', 'FBFBBBBRRL', 'BFBFFBBLLR', 'FFBFBFBLLR', 'BFBFFBBRLR', 'BFBFBFFRRL', 'FBBFBBFLLR', 'BFBFBBBRLL', 'FBBBBBBLLL', 'BFFBBFFRLR', 'BFFFBBBRLR', 'FBFBBFFLRR', 'FBBBFFBRLR', 'BFBFFFBLRL', 'BFFFBFFLRR', 'FFBFFBBRLR', 'FFBFBFBLLL', 'BFFBBFBLRL', 'BFBFBFBRRR', 'FFBFBFBRRR', 'FFBBBBFRRL', 'FFBBBFBRLR', 'BFFBFBFRLL', 'BFFFBBFRRR', 'FFBFBFFRRR', 'BFFBBBBRLL']\n"
     ]
    }
   ],
   "source": [
    "f = open('boarding.txt', 'r')\n",
    "boarding = f.read().split('\\n')\n",
    "print(boarding)"
   ]
  },
  {
   "cell_type": "code",
   "execution_count": 126,
   "metadata": {},
   "outputs": [
    {
     "data": {
      "text/plain": [
       "'\\nFor example, consider just the first seven characters of FBFBBFFRLR:\\n\\n-Start by considering the whole range, rows 0 through 127.\\n-F means to take the lower half, keeping rows 0 through 63.\\n-B means to take the upper half, keeping rows 32 through 63.\\n-F means to take the lower half, keeping rows 32 through 47.\\n-B means to take the upper half, keeping rows 40 through 47.\\n-B keeps rows 44 through 47.\\n-F keeps rows 44 through 45.\\nThe final F keeps the lower of the two, row 44.\\nThe last three characters will be either L or R; these specify exactly one of the 8 columns of seats on the plane (numbered 0 through 7). The same process as above proceeds again, this time with only three steps. L means to keep the lower half, while R means to keep the upper half.\\n\\nFor example, consider just the last 3 characters of FBFBBFFRLR:\\n\\nStart by considering the whole range, columns 0 through 7.\\nR means to take the upper half, keeping columns 4 through 7.\\nL means to take the lower half, keeping columns 4 through 5.\\nThe final R keeps the upper of the two, column 5.\\n\\nEvery seat also has a unique seat ID: multiply the row by 8, then add the column. \\nIn this example, the seat has ID 44 * 8 + 5 = 357.\\n'"
      ]
     },
     "execution_count": 126,
     "metadata": {},
     "output_type": "execute_result"
    }
   ],
   "source": [
    "\"\"\"\n",
    "For example, consider just the first seven characters of FBFBBFFRLR:\n",
    "\n",
    "-Start by considering the whole range, rows 0 through 127.\n",
    "-F means to take the lower half, keeping rows 0 through 63.\n",
    "-B means to take the upper half, keeping rows 32 through 63.\n",
    "-F means to take the lower half, keeping rows 32 through 47.\n",
    "-B means to take the upper half, keeping rows 40 through 47.\n",
    "-B keeps rows 44 through 47.\n",
    "-F keeps rows 44 through 45.\n",
    "The final F keeps the lower of the two, row 44.\n",
    "The last three characters will be either L or R; these specify exactly one of the 8 columns of seats on the plane (numbered 0 through 7). The same process as above proceeds again, this time with only three steps. L means to keep the lower half, while R means to keep the upper half.\n",
    "\n",
    "For example, consider just the last 3 characters of FBFBBFFRLR:\n",
    "\n",
    "Start by considering the whole range, columns 0 through 7.\n",
    "R means to take the upper half, keeping columns 4 through 7.\n",
    "L means to take the lower half, keeping columns 4 through 5.\n",
    "The final R keeps the upper of the two, column 5.\n",
    "\n",
    "Every seat also has a unique seat ID: multiply the row by 8, then add the column. \n",
    "In this example, the seat has ID 44 * 8 + 5 = 357.\n",
    "\"\"\""
   ]
  },
  {
   "cell_type": "code",
   "execution_count": 127,
   "metadata": {},
   "outputs": [
    {
     "name": "stdout",
     "output_type": "stream",
     "text": [
      "(44, 45)\n",
      "806\n"
     ]
    }
   ],
   "source": [
    "\n",
    "def divider(x, start, end):\n",
    "    if x == 'F' or x == 'L':\n",
    "        subtractor = ((end - start) // 2) + 1\n",
    "        return start, end - subtractor\n",
    "    else:\n",
    "        adder = ((end - start) // 2) + 1\n",
    "        return start + adder, end\n",
    "# start = 0\n",
    "# end = 127\n",
    "# left = 0\n",
    "# right = 7\n",
    "print(divider('F', 44, 47))\n",
    "listID= []\n",
    "\n",
    "for x in boarding:\n",
    "    row = 0\n",
    "    seat = 0\n",
    "    start = 0\n",
    "    end = 127\n",
    "    left = 0\n",
    "    right = 7\n",
    "    for y in range(6):\n",
    "        start, end = divider(x[y], start, end)\n",
    "    if x[6] == 'F':\n",
    "        row = start\n",
    "    else:\n",
    "        row = end\n",
    "    for z in range(7, 9):\n",
    "        left, right = divider(x[z], left, right)\n",
    "    if x[9] == 'L':\n",
    "        seat = left\n",
    "    else:\n",
    "        seat = right\n",
    "    seatID = (row * 8) + seat\n",
    "    listID.append(seatID)\n",
    "    \n",
    "print(max(listID))      "
   ]
  },
  {
   "cell_type": "code",
   "execution_count": 128,
   "metadata": {},
   "outputs": [
    {
     "name": "stdout",
     "output_type": "stream",
     "text": [
      "49 806\n",
      "562\n"
     ]
    }
   ],
   "source": [
    "listID.sort()\n",
    "myseat= 0\n",
    "print(min(listID), max(listID))\n",
    "for x in range(min(listID), max(listID)):\n",
    "    if x in listID:\n",
    "        pass\n",
    "    else:\n",
    "        myseat = x\n",
    "print(myseat)\n"
   ]
  }
 ],
 "metadata": {
  "kernelspec": {
   "display_name": "Python 3",
   "language": "python",
   "name": "python3"
  },
  "language_info": {
   "codemirror_mode": {
    "name": "ipython",
    "version": 3
   },
   "file_extension": ".py",
   "mimetype": "text/x-python",
   "name": "python",
   "nbconvert_exporter": "python",
   "pygments_lexer": "ipython3",
   "version": "3.8.3"
  }
 },
 "nbformat": 4,
 "nbformat_minor": 4
}
